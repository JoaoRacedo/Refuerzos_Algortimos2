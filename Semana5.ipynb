{
  "nbformat": 4,
  "nbformat_minor": 0,
  "metadata": {
    "colab": {
      "name": "Semana5.ipynb",
      "provenance": [],
      "collapsed_sections": [],
      "authorship_tag": "ABX9TyMUMfTNr8SLjtUTfRBXsChD",
      "include_colab_link": true
    },
    "kernelspec": {
      "name": "python3",
      "display_name": "Python 3"
    }
  },
  "cells": [
    {
      "cell_type": "markdown",
      "metadata": {
        "id": "view-in-github",
        "colab_type": "text"
      },
      "source": [
        "<a href=\"https://colab.research.google.com/github/JoaoRacedo/Refuerzos_Algortimos2/blob/main/Semana5.ipynb\" target=\"_parent\"><img src=\"https://colab.research.google.com/assets/colab-badge.svg\" alt=\"Open In Colab\"/></a>"
      ]
    },
    {
      "cell_type": "code",
      "metadata": {
        "colab": {
          "base_uri": "https://localhost:8080/"
        },
        "id": "NJQwgPO3aajz",
        "outputId": "9de85c26-a1da-4cb3-b174-cc6941604377"
      },
      "source": [
        "%%writefile test.java\n",
        "import java.util.Scanner;\n",
        "class test{\n",
        "    public static void main(String[] args){\n",
        "      int[][] A = new int[][]{\n",
        "          {1,2,3},\n",
        "          {4,5,6},\n",
        "          {7,8,9}\n",
        "      };\n",
        "    double[][] B = new double[50][50];\n",
        "    int N,M;\n",
        "    N = A.length;\n",
        "    M = A[0].length;\n",
        "    if(N != M){\n",
        "        System.out.println(\"Matriz debe ser cuadrada\");\n",
        "    }else{\n",
        "      System.out.println(\" \");\n",
        "      System.out.println(\"Matrix Original\");\n",
        "      for (int i =  0; i < M; i++){\n",
        "          for (int j = 0; j< N;j++){\n",
        "              System.out.print(A[i][j] + \" \");\n",
        "          }\n",
        "          System.out.println(\" \");\n",
        "      }\n",
        "      for (int i = 0;i<M;i++){\n",
        "          for (int j = 0; j<N; j++){\n",
        "              if(i>=j){\n",
        "                  System.out.println(A[i][j]+\" no hace parte de la triangular superior \");\n",
        "              }else{\n",
        "                  B[i][j] = A[i][j]; \n",
        "              }\n",
        "          }\n",
        "      }\n",
        "      System.out.println(\" \");\n",
        "      for (int i =  0; i < M; i++){\n",
        "          for (int j = 0; j< N;j++){\n",
        "              System.out.print(B[i][j] + \" \");\n",
        "          }\n",
        "          System.out.println(\" \");\n",
        "      }\n",
        "    }\n",
        "  }\n",
        "}"
      ],
      "execution_count": 29,
      "outputs": [
        {
          "output_type": "stream",
          "text": [
            "Overwriting test.java\n"
          ],
          "name": "stdout"
        }
      ]
    },
    {
      "cell_type": "code",
      "metadata": {
        "colab": {
          "base_uri": "https://localhost:8080/"
        },
        "id": "q24ywlWna1AA",
        "outputId": "e694653e-acfc-4440-a0cb-5bb68b0aa43d"
      },
      "source": [
        "!java test.java"
      ],
      "execution_count": 30,
      "outputs": [
        {
          "output_type": "stream",
          "text": [
            " \n",
            "Matrix Original\n",
            "1 2 3  \n",
            "4 5 6  \n",
            "7 8 9  \n",
            "1 no hace parte de la triangular superior \n",
            "4 no hace parte de la triangular superior \n",
            "5 no hace parte de la triangular superior \n",
            "7 no hace parte de la triangular superior \n",
            "8 no hace parte de la triangular superior \n",
            "9 no hace parte de la triangular superior \n",
            " \n",
            "0.0 2.0 3.0  \n",
            "0.0 0.0 6.0  \n",
            "0.0 0.0 0.0  \n"
          ],
          "name": "stdout"
        }
      ]
    },
    {
      "cell_type": "code",
      "metadata": {
        "id": "JAxHprccb2eK"
      },
      "source": [
        ""
      ],
      "execution_count": null,
      "outputs": []
    }
  ]
}
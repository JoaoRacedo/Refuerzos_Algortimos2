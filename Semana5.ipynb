{
  "nbformat": 4,
  "nbformat_minor": 0,
  "metadata": {
    "colab": {
      "name": "Semana5.ipynb",
      "provenance": [],
      "collapsed_sections": [],
      "authorship_tag": "ABX9TyOCN9dwWJnRGBrI0wJ8rKPP"
    },
    "kernelspec": {
      "name": "python3",
      "display_name": "Python 3"
    }
  },
  "cells": [
    {
      "cell_type": "code",
      "metadata": {
        "colab": {
          "base_uri": "https://localhost:8080/"
        },
        "id": "NJQwgPO3aajz",
        "outputId": "9de85c26-a1da-4cb3-b174-cc6941604377"
      },
      "source": [
        "%%writefile test.java\n",
        "import java.util.Scanner;\n",
        "class test{\n",
        "    public static void main(String[] args){\n",
        "      int[][] A = new int[][]{\n",
        "          {1,2,3},\n",
        "          {4,5,6},\n",
        "          {7,8,9}\n",
        "      };\n",
        "    double[][] B = new double[50][50];\n",
        "    int N,M;\n",
        "    N = A.length;\n",
        "    M = A[0].length;\n",
        "    if(N != M){\n",
        "        System.out.println(\"Matriz debe ser cuadrada\");\n",
        "    }else{\n",
        "      System.out.println(\" \");\n",
        "      System.out.println(\"Matrix Original\");\n",
        "      for (int i =  0; i < M; i++){\n",
        "          for (int j = 0; j< N;j++){\n",
        "              System.out.print(A[i][j] + \" \");\n",
        "          }\n",
        "          System.out.println(\" \");\n",
        "      }\n",
        "      for (int i = 0;i<M;i++){\n",
        "          for (int j = 0; j<N; j++){\n",
        "              if(i>=j){\n",
        "                  System.out.println(A[i][j]+\" no hace parte de la triangular superior \");\n",
        "              }else{\n",
        "                  B[i][j] = A[i][j]; \n",
        "              }\n",
        "          }\n",
        "      }\n",
        "      System.out.println(\" \");\n",
        "      for (int i =  0; i < M; i++){\n",
        "          for (int j = 0; j< N;j++){\n",
        "              System.out.print(B[i][j] + \" \");\n",
        "          }\n",
        "          System.out.println(\" \");\n",
        "      }\n",
        "    }\n",
        "  }\n",
        "}"
      ],
      "execution_count": 29,
      "outputs": [
        {
          "output_type": "stream",
          "text": [
            "Overwriting test.java\n"
          ],
          "name": "stdout"
        }
      ]
    },
    {
      "cell_type": "code",
      "metadata": {
        "colab": {
          "base_uri": "https://localhost:8080/"
        },
        "id": "q24ywlWna1AA",
        "outputId": "e694653e-acfc-4440-a0cb-5bb68b0aa43d"
      },
      "source": [
        "!java test.java"
      ],
      "execution_count": 30,
      "outputs": [
        {
          "output_type": "stream",
          "text": [
            " \n",
            "Matrix Original\n",
            "1 2 3  \n",
            "4 5 6  \n",
            "7 8 9  \n",
            "1 no hace parte de la triangular superior \n",
            "4 no hace parte de la triangular superior \n",
            "5 no hace parte de la triangular superior \n",
            "7 no hace parte de la triangular superior \n",
            "8 no hace parte de la triangular superior \n",
            "9 no hace parte de la triangular superior \n",
            " \n",
            "0.0 2.0 3.0  \n",
            "0.0 0.0 6.0  \n",
            "0.0 0.0 0.0  \n"
          ],
          "name": "stdout"
        }
      ]
    },
    {
      "cell_type": "code",
      "metadata": {
        "colab": {
          "base_uri": "https://localhost:8080/"
        },
        "id": "JAxHprccb2eK",
        "outputId": "517d0f7a-82ff-4211-bad1-a6020320ef5a"
      },
      "source": [
        "%%writefile test1.java\n",
        "import java.util.Scanner;\n",
        "class test1{\n",
        "     public static void main(String[] args){\n",
        "        Scanner s = new Scanner(System.in);\n",
        "        double[][] A = new double[50][50];\n",
        "        int N,M;\n",
        "        M = 3;\n",
        "        System.out.println(\"Digite N\");\n",
        "        N = s.nextInt();\n",
        "        for (int i =  0; i < M; i++){\n",
        "          for (int j = 0; j< N;j++){\n",
        "              if (i == 0){\n",
        "                // calcula la posicion k de la fila i = 1\n",
        "                double suma_sin = 0;\n",
        "                for (int k = 1; k<=j+1; k++){ // sumatoria sin\n",
        "                    suma_sin = suma_sin + Math.sin((2*Math.PI*k)/N);\n",
        "                }\n",
        "                A[i][j] = suma_sin;\n",
        "              }\n",
        "          }\n",
        "      }\n",
        "      // Escribir los resultados\n",
        "      System.out.println(\" \");\n",
        "      for (int i =  0; i < M; i++){\n",
        "          for (int j = 0; j< N;j++){\n",
        "              System.out.print(A[i][j] + \" \");\n",
        "          }\n",
        "          System.out.println(\" \");\n",
        "      }\n",
        "\n",
        "     }\n",
        "}"
      ],
      "execution_count": 39,
      "outputs": [
        {
          "output_type": "stream",
          "text": [
            "Overwriting test1.java\n"
          ],
          "name": "stdout"
        }
      ]
    },
    {
      "cell_type": "code",
      "metadata": {
        "colab": {
          "base_uri": "https://localhost:8080/"
        },
        "id": "v0YV3lMbohV2",
        "outputId": "0e040b55-261a-41ba-d932-0f79b786117b"
      },
      "source": [
        "!java test1.java"
      ],
      "execution_count": 43,
      "outputs": [
        {
          "output_type": "stream",
          "text": [
            "Digite N\n",
            "3\n",
            " \n",
            "0.8660254037844387 3.3306690738754696E-16 8.813754755807632E-17  \n",
            "0.0 0.0 0.0  \n",
            "0.0 0.0 0.0  \n"
          ],
          "name": "stdout"
        }
      ]
    }
  ]
}
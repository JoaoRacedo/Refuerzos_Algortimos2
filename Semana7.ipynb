{
  "nbformat": 4,
  "nbformat_minor": 0,
  "metadata": {
    "colab": {
      "name": "Semana7.ipynb",
      "provenance": [],
      "collapsed_sections": [],
      "authorship_tag": "ABX9TyPPZIwwlyp7W5ZYid6MxMGV"
    },
    "kernelspec": {
      "name": "python3",
      "display_name": "Python 3"
    }
  },
  "cells": [
    {
      "cell_type": "code",
      "metadata": {
        "colab": {
          "base_uri": "https://localhost:8080/"
        },
        "id": "Ya8qEY-bXv-B",
        "outputId": "6c3db0bf-a5c1-4029-95ca-42540b650d09"
      },
      "source": [
        "%%writefile test.java\n",
        "import java.util.Scanner;\n",
        "class test{\n",
        "    public static void main(String[] args){\n",
        "        String texto = \"abc\"; // cadena de caracteres\n",
        "        System.out.println(texto.length());\n",
        "        String texto_largo = \"La entrada \"+\"tiene\"+\" un numero de caracteres \"+texto;\n",
        "        System.out.println(texto_largo);\n",
        "        //String con chars\n",
        "        System.out.println(texto.charAt(1));\n",
        "        //Substrings\n",
        "        int numero = 12345;\n",
        "        String texto1 = \"hello\";\n",
        "        System.out.println(numero);\n",
        "        String ejemplo= Integer.toString(numero);  \n",
        "        System.out.println(ejemplo.substring(0,3)); // [0,n) -> desde 0 hasta n-1\n",
        "        for (int i = 0;i < texto1.length();i++){\n",
        "            System.out.println(\"El numero en la posicion \"+i+ \" es: \"+texto1.substring(i,i+1));\n",
        "        }\n",
        "        System.out.println(\"El texto en la posicion numero 5 es\"+texto1.substring(5));\n",
        "        System.out.println(texto1.substring(5) ==\"\");\n",
        "        System.out.println(texto1.substring(5).equals(\"\"));\n",
        "        int i = 0;\n",
        "        while (texto1.substring(i,i+1).equals(\"\") == false){ // ARREGLAR ESTA PARTE \n",
        "            System.out.println(\"El numero en la posicion \"+i+ \" es: \"+texto1.substring(i,i+1));\n",
        "            i++;\n",
        "        }\n",
        "    }\n",
        "}"
      ],
      "execution_count": 89,
      "outputs": [
        {
          "output_type": "stream",
          "text": [
            "Overwriting test.java\n"
          ],
          "name": "stdout"
        }
      ]
    },
    {
      "cell_type": "code",
      "metadata": {
        "colab": {
          "base_uri": "https://localhost:8080/"
        },
        "id": "HGfRpmIbYBir",
        "outputId": "9181c03a-3933-4e92-aad4-b9e3ff3d30f8"
      },
      "source": [
        "!java test.java"
      ],
      "execution_count": 90,
      "outputs": [
        {
          "output_type": "stream",
          "text": [
            "3\n",
            "La entrada tiene un numero de caracteres abc\n",
            "b\n",
            "12345\n",
            "123\n",
            "El numero en la posicion 0 es: h\n",
            "El numero en la posicion 1 es: e\n",
            "El numero en la posicion 2 es: l\n",
            "El numero en la posicion 3 es: l\n",
            "El numero en la posicion 4 es: o\n",
            "El texto en la posicion numero 5 es\n",
            "false\n",
            "true\n",
            "El numero en la posicion 0 es: h\n",
            "El numero en la posicion 1 es: e\n",
            "El numero en la posicion 2 es: l\n",
            "El numero en la posicion 3 es: l\n",
            "El numero en la posicion 4 es: o\n",
            "Exception in thread \"main\" java.lang.StringIndexOutOfBoundsException: begin 5, end 6, length 5\n",
            "\tat java.base/java.lang.String.checkBoundsBeginEnd(String.java:3319)\n",
            "\tat java.base/java.lang.String.substring(String.java:1874)\n",
            "\tat test.main(test.java:23)\n"
          ],
          "name": "stdout"
        }
      ]
    },
    {
      "cell_type": "code",
      "metadata": {
        "id": "MjuxE1hpfws8"
      },
      "source": [
        "def hola(): # funcion\n",
        "  return \"hola\",\"como estas\"\n",
        "def hola1(v1,v2): # subrutina \n",
        "  v3 = v1+v2 ## v3 solo existe dentro de la subrutina en python"
      ],
      "execution_count": 114,
      "outputs": []
    },
    {
      "cell_type": "code",
      "metadata": {
        "colab": {
          "base_uri": "https://localhost:8080/"
        },
        "id": "6jQWKGc4jles",
        "outputId": "6cd45e51-9096-4232-c68e-60bdfeaaf47c"
      },
      "source": [
        "hola()"
      ],
      "execution_count": 115,
      "outputs": [
        {
          "output_type": "execute_result",
          "data": {
            "text/plain": [
              "('hola', 'como estas')"
            ]
          },
          "metadata": {
            "tags": []
          },
          "execution_count": 115
        }
      ]
    },
    {
      "cell_type": "code",
      "metadata": {
        "colab": {
          "base_uri": "https://localhost:8080/"
        },
        "id": "exHhA-yujmdd",
        "outputId": "54b890fd-f9d8-4e26-d72b-a6b42992f46b"
      },
      "source": [
        "hola1(1,2)"
      ],
      "execution_count": 116,
      "outputs": [
        {
          "output_type": "execute_result",
          "data": {
            "text/plain": [
              "3"
            ]
          },
          "metadata": {
            "tags": []
          },
          "execution_count": 116
        }
      ]
    }
  ]
}
{
  "nbformat": 4,
  "nbformat_minor": 0,
  "metadata": {
    "colab": {
      "name": "Semana8.ipynb",
      "provenance": [],
      "collapsed_sections": [],
      "authorship_tag": "ABX9TyOuMVjgeN1jbx4BpxFn98Ew"
    },
    "kernelspec": {
      "name": "python3",
      "display_name": "Python 3"
    },
    "language_info": {
      "name": "python"
    }
  },
  "cells": [
    {
      "cell_type": "code",
      "metadata": {
        "colab": {
          "base_uri": "https://localhost:8080/"
        },
        "id": "Bqa8YdU9er0e",
        "outputId": "8046cf4a-33ca-4ab9-f287-dfd1c808c1d2"
      },
      "source": [
        "%%writefile test.java\n",
        "import java.util.Scanner;\n",
        "class test{\n",
        "    public static void main(String[] args){\n",
        "      String texto = \"The quick brown fox jumps ver the lazy dog.\";\n",
        "      System.out.println(texto.length());\n",
        "      String texto_new = texto.substring(10,26); //[10,27) -> desde la 10 hasta la 26\n",
        "      System.out.println(\"El texto que esta entre 10 a 26 es \"+texto_new);   \n",
        "\n",
        "      String casa = \"casa\";\n",
        "      System.out.println(casa);  \n",
        "      System.out.println(casa+\"\"+\"a\");\n",
        "      System.out.println(\" \"+casa+\" \"+\"a\");  \n",
        "      String c = \"ingeniero de sistemas\";\n",
        "      System.out.println(c.length()-4);\n",
        "      for(int i= c.length(); i> c.length()-4; i--){\n",
        "          System.out.println(c.substring(i-1,i));\n",
        "      }\n",
        "      System.out.println(\"-----seudocodigo der-----\");\n",
        "      System.out.println(der(c,10));  //der(c,10) -> e sistemas\n",
        "      System.out.println(\"-----seudocodigo izq-----\");\n",
        "      System.out.println(izq(c,4)); // izq(c,4) -> inge\n",
        "      System.out.println(\"-----seudocodigo combinaciones der y izq-----\");\n",
        "      System.out.println(der(izq(c,12),2));\n",
        "      System.out.println(izq(der(c,11),2));\n",
        "      System.out.println(izq(der(c,11),2));\n",
        "      System.out.println(\"-----seudocodigo substr-----\");\n",
        "      System.out.println(substr(c,11,2));\n",
        "      System.out.println(substr(c,1,9));\n",
        "      System.out.println(substr(c,11,1));\n",
        "      System.out.println(\"-----seudocodigo num2str-----\");\n",
        "      double num = 10.5;\n",
        "      System.out.println(num +\" \"+ \" \"+Double.toString(num));\n",
        "      String num_str = \"10.5\";\n",
        "      System.out.println(Double.parseDouble(num_str));\n",
        "      System.out.println(\"-----Texto con numeros-----\");\n",
        "      String num_text = \"mi numero favorito es el 8 y me gusta\";\n",
        "      // forma visual\n",
        "      int index = 26;\n",
        "      String number = substr(num_text,index,1);\n",
        "      System.out.println(\"El numero es \"+ number+\" y en texto es \"+Double.parseDouble(number));\n",
        "      // tener un vector vacio y separar el texto por los \" \" para encontrar el numero\n",
        "\n",
        "    }\n",
        "\n",
        "    public static String der(String c, int n){\n",
        "        String resultado_der = c.substring(c.length()-n,c.length());\n",
        "        return resultado_der;\n",
        "    }\n",
        "\n",
        "    public static String izq(String c, int n){\n",
        "        String resultado_izq = c.substring(0,n);\n",
        "        return resultado_izq;\n",
        "    }\n",
        "\n",
        "    public static String substr(String c, int pos, int n){ // posicion inicial es 1 y n es inclusivo [a,b]\n",
        "        String resultado_substr = c.substring(pos-1,pos-1+n);\n",
        "        return resultado_substr;\n",
        "    }\n",
        "}"
      ],
      "execution_count": 113,
      "outputs": [
        {
          "output_type": "stream",
          "text": [
            "Overwriting test.java\n"
          ],
          "name": "stdout"
        }
      ]
    },
    {
      "cell_type": "code",
      "metadata": {
        "colab": {
          "base_uri": "https://localhost:8080/"
        },
        "id": "s7esiVrGfHNv",
        "outputId": "5edf2db1-e0cf-4fda-d450-9fc2b47fba73"
      },
      "source": [
        "!java test.java"
      ],
      "execution_count": 114,
      "outputs": [
        {
          "output_type": "stream",
          "text": [
            "43\n",
            "El texto que esta entre 10 a 26 es brown fox jumps \n",
            "casa\n",
            "casaa\n",
            " casa a\n",
            "17\n",
            "s\n",
            "a\n",
            "m\n",
            "e\n",
            "-----seudocodigo der-----\n",
            "e sistemas\n",
            "-----seudocodigo izq-----\n",
            "inge\n",
            "-----seudocodigo combinaciones der y izq-----\n",
            "de\n",
            "de\n",
            "de\n",
            "-----seudocodigo substr-----\n",
            "de\n",
            "ingeniero\n",
            "d\n",
            "-----seudocodigo num2str-----\n",
            "10.5  10.5\n",
            "10.5\n",
            "-----Texto con numeros-----\n",
            "El numero es 8 y en texto es 8.0\n"
          ],
          "name": "stdout"
        }
      ]
    },
    {
      "cell_type": "code",
      "metadata": {
        "colab": {
          "base_uri": "https://localhost:8080/"
        },
        "id": "GRwS4b-ZfI0J",
        "outputId": "7c9cc923-d5d8-4eba-ef38-3acc549b099c"
      },
      "source": [
        "pos = 11\n",
        "n = 1\n",
        "print(pos-1,pos-1+n)"
      ],
      "execution_count": 93,
      "outputs": [
        {
          "output_type": "stream",
          "text": [
            "10 11\n"
          ],
          "name": "stdout"
        }
      ]
    },
    {
      "cell_type": "code",
      "metadata": {
        "colab": {
          "base_uri": "https://localhost:8080/"
        },
        "id": "_4ishFIvr3qf",
        "outputId": "064295d2-b5b9-4d79-b61d-a794763c34b6"
      },
      "source": [
        "list(range(pos-1,pos-1+n))"
      ],
      "execution_count": 94,
      "outputs": [
        {
          "output_type": "execute_result",
          "data": {
            "text/plain": [
              "[10]"
            ]
          },
          "metadata": {
            "tags": []
          },
          "execution_count": 94
        }
      ]
    }
  ]
}
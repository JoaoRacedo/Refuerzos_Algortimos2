{
  "nbformat": 4,
  "nbformat_minor": 0,
  "metadata": {
    "colab": {
      "name": "Semana6.ipynb",
      "provenance": [],
      "authorship_tag": "ABX9TyMmkUVoZ0x733SWdlLMv9kt"
    },
    "kernelspec": {
      "name": "python3",
      "display_name": "Python 3"
    }
  },
  "cells": [
    {
      "cell_type": "code",
      "metadata": {
        "id": "tx3LyDxaemM9"
      },
      "source": [
        "%%writefile test.java\n",
        "import java.util.Scanner;\n",
        "class test{\n",
        "    public static void main(String[] args){\n",
        "        int[] A = new int[]{10,8,30,9,24,13,5,11};\n",
        "        int[] F = new int[50];\n",
        "        int[] Resultado = new int[50];\n",
        "        F[0] = 0;\n",
        "        F[1] = 1;\n",
        "        int N = A.length;\n",
        "        int max = A[0];\n",
        "        // Encontrar mayor elemento del vector\n",
        "        for (int i = 1;i<N;i++){\n",
        "            if(max < A[i]){\n",
        "                max = A[i];\n",
        "            }\n",
        "        }\n",
        "      // Generar serie de fibonacci hasta max\n",
        "        int j = 2;\n",
        "       while (F[j-1] <= max){\n",
        "           F[j] = F[j-1]+F[j-2];\n",
        "           j++;\n",
        "       }\n",
        "       // Encontrar interseccion entre A y F\n",
        "        /*int xyz = 0;\n",
        "        for (int i = 0; i<N; i++){\n",
        "            for (int z = 0;z<j;z++){\n",
        "                if (A[i] == F[z]){\n",
        "                    Resultado[xyz] = A[i];\n",
        "                    xyz++;\n",
        "                }\n",
        "            }\n",
        "        }*/\n",
        "        int xyz = 0;\n",
        "        for (int i = 0;i<N;i++){\n",
        "            int z = 0;\n",
        "            int sw = 0;\n",
        "            while (z < j && sw == 0){\n",
        "                if (A[i] == F[z]){\n",
        "                    Resultado[xyz] = A[i];\n",
        "                    xyz++;\n",
        "                    sw = 1;\n",
        "                }\n",
        "                z++;\n",
        "            }\n",
        "        }\n",
        "       // Mostrar resultados\n",
        "        System.out.println(\"El vector original es\");\n",
        "        for(int i = 0;i<N;i++){\n",
        "            System.out.print(A[i]+\" \");\n",
        "        }\n",
        "        System.out.println(\" \");\n",
        "        System.out.println(\"El mayor numero es \"+max);\n",
        "        System.out.println(\"La serie de Fibonacci se genero hasta la posicion \"+\n",
        "                           j);\n",
        "        for(int i = 0; i<j;i++){\n",
        "            System.out.print(F[i]+\" \");\n",
        "        }\n",
        "        System.out.println(\" \");\n",
        "        System.out.println(\"Los elemetos de A que pertenecen a Fibonacci son\");\n",
        "        for(int i = 0;i<xyz;i++){\n",
        "            System.out.print(Resultado[i]+\" \");\n",
        "        }\n",
        "    }\n",
        "}"
      ],
      "execution_count": null,
      "outputs": []
    },
    {
      "cell_type": "code",
      "metadata": {
        "colab": {
          "base_uri": "https://localhost:8080/"
        },
        "id": "Fw0fZM1lfD1K",
        "outputId": "f7ff6110-ae22-484e-afaf-f0e03bc118a2"
      },
      "source": [
        "!java test.java"
      ],
      "execution_count": 28,
      "outputs": [
        {
          "output_type": "stream",
          "text": [
            "El vector original es\n",
            "10 8 30 9 24 13 5 11  \n",
            "El mayor numero es 30\n",
            "La serie de Fibonacci se genero hasta la posicion 10\n",
            "0 1 1 2 3 5 8 13 21 34  \n",
            "Los elemetos de A que pertenecen a Fibonacci son\n",
            "8 13 5 "
          ],
          "name": "stdout"
        }
      ]
    }
  ]
}
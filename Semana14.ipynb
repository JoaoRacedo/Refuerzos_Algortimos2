{
  "nbformat": 4,
  "nbformat_minor": 0,
  "metadata": {
    "colab": {
      "name": "Semana14.ipynb",
      "provenance": [],
      "collapsed_sections": [],
      "authorship_tag": "ABX9TyOQDWRVE2BAflaGNpC8orbI"
    },
    "kernelspec": {
      "name": "python3",
      "display_name": "Python 3"
    },
    "language_info": {
      "name": "python"
    }
  },
  "cells": [
    {
      "cell_type": "code",
      "metadata": {
        "colab": {
          "base_uri": "https://localhost:8080/"
        },
        "id": "D3lTTVlI2YIm",
        "outputId": "95a0f4ee-d521-4d64-893d-618fd40cf290"
      },
      "source": [
        "%%writefile factorial.java\n",
        "import java.util.Scanner;\n",
        "class factorial{\n",
        "    public static void main(String[] args){\n",
        "        double respuesta_factorial_iter, respuesta_factorial_rec, respuesta_factorial_rec2;\n",
        "        int n = 5;\n",
        "        respuesta_factorial_iter = factorial_iter(n);\n",
        "        System.out.println(\"la respuesta iterativa es \"+respuesta_factorial_iter);\n",
        "        respuesta_factorial_rec = factorial_rec(n);\n",
        "        System.out.println(\"la respuesta recursividad 1 es \"+respuesta_factorial_rec);\n",
        "        respuesta_factorial_rec2 = factorial_rec2(n);\n",
        "        System.out.println(\"la respuesta recursividad 2 es \"+respuesta_factorial_rec2);\n",
        "    }\n",
        "\n",
        "    // FORMA ITERATIVA\n",
        "    public static double factorial_iter(int n){\n",
        "        double r = 1;\n",
        "        if (n==0){\n",
        "            r = 1;\n",
        "        }else{\n",
        "            for (int i = 1;i<=n;i++){\n",
        "                r = r*i;\n",
        "            }\n",
        "        }\n",
        "        return r;\n",
        "    }\n",
        "\n",
        "    // FORMA RECURSIVA 1\n",
        "    public static double factorial_rec(int n){\n",
        "      if (n <= 0){ // CASO BASE \n",
        "          return 1;\n",
        "      }else{ // CASO RECURIVO\n",
        "          return n*factorial_rec(n-1);\n",
        "      }\n",
        "    }\n",
        "\n",
        "    // FORMA RECURSIVA 2\n",
        "    public static double factorial_rec2(int n){\n",
        "      double r;\n",
        "      if (n != 1){ // CASO RECURIVO\n",
        "          r = n*factorial_rec2(n-1);\n",
        "      }else{ // CASO BASE\n",
        "          r = 1;\n",
        "      }\n",
        "      return r;\n",
        "    }\n",
        "\n",
        "}"
      ],
      "execution_count": 11,
      "outputs": [
        {
          "output_type": "stream",
          "text": [
            "Overwriting factorial.java\n"
          ],
          "name": "stdout"
        }
      ]
    },
    {
      "cell_type": "code",
      "metadata": {
        "colab": {
          "base_uri": "https://localhost:8080/"
        },
        "id": "jTiN68RF3TMT",
        "outputId": "2858659a-1252-4a2c-e7a4-957d060f6724"
      },
      "source": [
        "!java factorial.java"
      ],
      "execution_count": 12,
      "outputs": [
        {
          "output_type": "stream",
          "text": [
            "la respuesta iterativa es 120.0\n",
            "la respuesta recursividad 1 es 120.0\n",
            "la respuesta recursividad 2 es 120.0\n"
          ],
          "name": "stdout"
        }
      ]
    },
    {
      "cell_type": "code",
      "metadata": {
        "colab": {
          "base_uri": "https://localhost:8080/"
        },
        "id": "nwlNBwxW3U9S",
        "outputId": "749aecfb-9775-4027-989d-4d23556c57ba"
      },
      "source": [
        "%%writefile potencia_numero.java\n",
        "import java.util.Scanner;\n",
        "class potencia_numero{\n",
        "    public static void main(String[] args){\n",
        "        int exponente, base;\n",
        "        double respuesta_recursiva;\n",
        "        base = 3;\n",
        "        exponente = -5;\n",
        "        respuesta_recursiva = potencia(base, exponente);\n",
        "        System.out.println(\"la respuesta es \"+respuesta_recursiva);\n",
        "    }\n",
        "\n",
        "    public static double potencia(int base, int exponente){\n",
        "      if (exponente == 0){ // Caso base\n",
        "                          \n",
        "          return 1;\n",
        "          \n",
        "      }else if (exponente < 0){ // LLAMADO RECURSIVO PARA CUANDO exponente es negativo\n",
        "                               \n",
        "          return potencia(base, exponente + 1)/base;\n",
        "\n",
        "      }else{ // LLAMADO RECURSIVO PARA CUANDO exponente es positivo\n",
        "            \n",
        "          return base * potencia(base, exponente - 1);\n",
        "\n",
        "      }\n",
        "    }\n",
        "}"
      ],
      "execution_count": 15,
      "outputs": [
        {
          "output_type": "stream",
          "text": [
            "Overwriting potencia_numero.java\n"
          ],
          "name": "stdout"
        }
      ]
    },
    {
      "cell_type": "code",
      "metadata": {
        "colab": {
          "base_uri": "https://localhost:8080/"
        },
        "id": "Hg2xgiuTA8B0",
        "outputId": "31b5b0e1-8467-4974-e525-acd690e3e2e2"
      },
      "source": [
        "!java potencia_numero.java"
      ],
      "execution_count": 16,
      "outputs": [
        {
          "output_type": "stream",
          "text": [
            "la respuesta es 0.004115226337448559\n"
          ],
          "name": "stdout"
        }
      ]
    }
  ]
}
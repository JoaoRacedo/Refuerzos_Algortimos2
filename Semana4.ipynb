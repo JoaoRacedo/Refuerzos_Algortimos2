{
  "nbformat": 4,
  "nbformat_minor": 0,
  "metadata": {
    "colab": {
      "name": "Semana4.ipynb",
      "provenance": [],
      "authorship_tag": "ABX9TyMwD8MvV1PEsgD2YOlT04pw"
    },
    "kernelspec": {
      "name": "python3",
      "display_name": "Python 3"
    }
  },
  "cells": [
    {
      "cell_type": "code",
      "metadata": {
        "colab": {
          "base_uri": "https://localhost:8080/"
        },
        "id": "VRFDOnezNv0Y",
        "outputId": "48998a7f-166b-4fd7-92ee-e82dc1316e0b"
      },
      "source": [
        "%%writefile test.java\n",
        "import java.util.Scanner;\n",
        "class test{\n",
        "  public static void main(String[] args){\n",
        "      Scanner s = new Scanner(System.in);\n",
        "      int A[] = new int[50];\n",
        "      int B[] = new int[50];\n",
        "      int C[] = new int[50];\n",
        "      int D[] = new int[50];\n",
        "      int N, primos = 0, impar = 0, perfectos = 0;\n",
        "\n",
        "      System.out.println(\"Digite valor de N\");\n",
        "      N = s.nextInt();\n",
        "      for (int i = 0;i<N;i++){\n",
        "        System.out.println(\"Digite valor A en la posicion \"+ i);\n",
        "        A[i] = s.nextInt();\n",
        "\n",
        "        // Para la parte de primos\n",
        "        if(esPrimo(A[i])){\n",
        "            B[primos] = A[i];\n",
        "            primos++;\n",
        "        }\n",
        "\n",
        "        // Para la parte de impares\n",
        "        if(esImpar(A[i])){\n",
        "           C[impar] = A[i];\n",
        "           impar++;\n",
        "        }\n",
        "\n",
        "        // Para la parte de perfectos\n",
        "        if(esPerfecto(A[i])){\n",
        "            D[perfectos] = A[i];\n",
        "            perfectos++;\n",
        "        }\n",
        "      }\n",
        "      System.out.println(\"Vector original\");\n",
        "      for (int i = 0; i<N; i++){\n",
        "        System.out.print(A[i] + \" \");\n",
        "      }\n",
        "      System.out.println(\" \");\n",
        "      System.out.println(\"Vector de primos\");\n",
        "      for (int i = 0; i<primos; i++){\n",
        "        System.out.print(B[i] + \" \");\n",
        "      }\n",
        "      System.out.println(\" \");\n",
        "      System.out.println(\"Vector de impares\");\n",
        "      for (int i = 0; i<impar; i++){\n",
        "        System.out.print(C[i] + \" \");\n",
        "      }\n",
        "      System.out.println(\" \");\n",
        "      System.out.println(\"Vector de perfectos\");\n",
        "      for (int i = 0; i<perfectos; i++){\n",
        "        System.out.print(D[i] + \" \");\n",
        "      } \n",
        "  }\n",
        "\n",
        "  public static boolean esPrimo(int number){\n",
        "      \n",
        "      boolean primo = (number == 1)?false:true;  // pregunta si el number es igual a 1. Lo pregunta con ?, de no serlo false, de serlo true\n",
        "      int divisor = 2;\n",
        "      if(number <= 1){\n",
        "          primo = false;\n",
        "      }\n",
        "      while(primo && divisor <= Math.sqrt(number)){\n",
        "          if(number%divisor == 0){\n",
        "              primo = false;\n",
        "          }\n",
        "          divisor = divisor +1; // divisor++\n",
        "      }\n",
        "      return primo;\n",
        "  }\n",
        "\n",
        "  public static boolean esImpar(int number){\n",
        "      boolean impar = false;\n",
        "      if(number%2 != 0){\n",
        "          impar = true;\n",
        "      }\n",
        "      return impar;\n",
        "  }\n",
        "\n",
        "  public static boolean esPerfecto(int number){\n",
        "      boolean perfecto = false;\n",
        "      int suma = 0;\n",
        "      for (int i = 1; i < number; i++){ // i son los posibles divisores.\n",
        "          if(number%i == 0){ // si la condicion se cumple, ES un divisor.\n",
        "              suma = suma + i;\n",
        "          }\n",
        "      }\n",
        "      perfecto = (suma == number);\n",
        "      return perfecto;\n",
        "\n",
        "  }\n",
        "}"
      ],
      "execution_count": 29,
      "outputs": [
        {
          "output_type": "stream",
          "text": [
            "Overwriting test.java\n"
          ],
          "name": "stdout"
        }
      ]
    },
    {
      "cell_type": "code",
      "metadata": {
        "colab": {
          "base_uri": "https://localhost:8080/"
        },
        "id": "_Mrkt1QMQIWt",
        "outputId": "87fa09a1-20b7-4ac0-9948-75d6b0294542"
      },
      "source": [
        "!java test.java"
      ],
      "execution_count": 30,
      "outputs": [
        {
          "output_type": "stream",
          "text": [
            "Digite valor de N\n",
            "6\n",
            "Digite valor A en la posicion 0\n",
            "3\n",
            "Digite valor A en la posicion 1\n",
            "5\n",
            "Digite valor A en la posicion 2\n",
            "-1\n",
            "Digite valor A en la posicion 3\n",
            "6\n",
            "Digite valor A en la posicion 4\n",
            "10\n",
            "Digite valor A en la posicion 5\n",
            "2\n",
            "Vector original\n",
            "3 5 -1 6 10 2  \n",
            "Vector de primos\n",
            "3 5 2  \n",
            "Vector de impares\n",
            "3 5 -1  \n",
            "Vector de perfectos\n",
            "6 "
          ],
          "name": "stdout"
        }
      ]
    }
  ]
}